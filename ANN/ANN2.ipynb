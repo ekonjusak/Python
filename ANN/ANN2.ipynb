{
 "cells": [
  {
   "cell_type": "code",
   "execution_count": 2,
   "metadata": {},
   "outputs": [],
   "source": [
    "import tensorflow as tf\n",
    "from tensorflow.keras.datasets import cifar10\n",
    "from tensorflow.keras.preprocessing.image import ImageDataGenerator\n",
    "from tensorflow.keras.models import Sequential\n",
    "from tensorflow.keras.layers import Dense, Dropout, Activation, Flatten\n",
    "from tensorflow.keras.layers import Conv2D, MaxPooling2D"
   ]
  },
  {
   "cell_type": "code",
   "execution_count": 3,
   "metadata": {},
   "outputs": [
    {
     "name": "stdout",
     "output_type": "stream",
     "text": [
      "Train on 5860 samples, validate on 1465 samples\n",
      "Epoch 1/10\n",
      "5860/5860 [==============================] - 51s 9ms/step - loss: 0.2321 - acc: 0.9087 - val_loss: 0.1321 - val_acc: 0.9584\n",
      "Epoch 2/10\n",
      "5860/5860 [==============================] - 52s 9ms/step - loss: 0.1059 - acc: 0.9633 - val_loss: 0.0970 - val_acc: 0.9666\n",
      "Epoch 3/10\n",
      "5860/5860 [==============================] - 52s 9ms/step - loss: 0.0821 - acc: 0.9705 - val_loss: 0.1755 - val_acc: 0.9420\n",
      "Epoch 4/10\n",
      "5860/5860 [==============================] - 54s 9ms/step - loss: 0.0841 - acc: 0.9725 - val_loss: 0.0943 - val_acc: 0.9659\n",
      "Epoch 5/10\n",
      "5860/5860 [==============================] - 55s 9ms/step - loss: 0.0717 - acc: 0.9754 - val_loss: 0.0811 - val_acc: 0.9666\n",
      "Epoch 6/10\n",
      "5860/5860 [==============================] - 56s 9ms/step - loss: 0.0587 - acc: 0.9795 - val_loss: 0.1289 - val_acc: 0.9570\n",
      "Epoch 7/10\n",
      "5860/5860 [==============================] - 55s 9ms/step - loss: 0.0569 - acc: 0.9816 - val_loss: 0.0690 - val_acc: 0.9754\n",
      "Epoch 8/10\n",
      "5860/5860 [==============================] - 53s 9ms/step - loss: 0.0351 - acc: 0.9874 - val_loss: 0.0593 - val_acc: 0.9761\n",
      "Epoch 9/10\n",
      "5860/5860 [==============================] - 58s 10ms/step - loss: 0.0328 - acc: 0.9892 - val_loss: 0.0700 - val_acc: 0.9741\n",
      "Epoch 10/10\n",
      "5860/5860 [==============================] - 55s 9ms/step - loss: 0.0246 - acc: 0.9923 - val_loss: 0.0762 - val_acc: 0.9727\n"
     ]
    },
    {
     "data": {
      "text/plain": [
       "<tensorflow.python.keras.callbacks.History at 0x239ab048>"
      ]
     },
     "execution_count": 3,
     "metadata": {},
     "output_type": "execute_result"
    }
   ],
   "source": [
    "import pickle\n",
    "\n",
    "pickle_in = open(\"X.pickle\",\"rb\")\n",
    "X = pickle.load(pickle_in)\n",
    "\n",
    "pickle_in = open(\"Y.pickle\",\"rb\")\n",
    "Y = pickle.load(pickle_in)\n",
    "\n",
    "X = X/255.0\n",
    "\n",
    "model = Sequential()\n",
    "\n",
    "model.add(Conv2D(64, (3,3), input_shape=X.shape[1:]))\n",
    "model.add(Activation('relu'))\n",
    "model.add(MaxPooling2D(pool_size=(2, 2)))\n",
    "\n",
    "model.add(Conv2D(64, (3, 3)))\n",
    "model.add(Activation('relu'))\n",
    "model.add(MaxPooling2D(pool_size=(2, 2)))\n",
    "\n",
    "model.add(Flatten())  # this converts our 3D feature maps to 1D feature vectors\n",
    "\n",
    "model.add(Dense(64))\n",
    "\n",
    "model.add(Dense(1))\n",
    "model.add(Activation('sigmoid'))\n",
    "\n",
    "model.compile(loss='binary_crossentropy',\n",
    "              optimizer='adam',\n",
    "              metrics=['accuracy'])\n",
    "\n",
    "model.fit(X, Y, batch_size=32, epochs=10, validation_split=0.2)"
   ]
  },
  {
   "cell_type": "code",
   "execution_count": null,
   "metadata": {},
   "outputs": [],
   "source": []
  }
 ],
 "metadata": {
  "kernelspec": {
   "display_name": "Python 3",
   "language": "python",
   "name": "python3"
  },
  "language_info": {
   "codemirror_mode": {
    "name": "ipython",
    "version": 3
   },
   "file_extension": ".py",
   "mimetype": "text/x-python",
   "name": "python",
   "nbconvert_exporter": "python",
   "pygments_lexer": "ipython3",
   "version": "3.6.7"
  }
 },
 "nbformat": 4,
 "nbformat_minor": 2
}
